{
 "cells": [
  {
   "cell_type": "code",
   "execution_count": 1,
   "metadata": {},
   "outputs": [],
   "source": [
    "import snap"
   ]
  },
  {
   "cell_type": "markdown",
   "metadata": {},
   "source": [
    "# 1. Network Characteristics"
   ]
  },
  {
   "cell_type": "markdown",
   "metadata": {},
   "source": [
    "## Erdos-Renyi Random graph (G(n, m) random network)\n",
    "Generate a random instance of this model by using n = 5242 nodes and picking m = 14484 edges at random."
   ]
  },
  {
   "cell_type": "code",
   "execution_count": 4,
   "metadata": {
    "code_folding": [
     3
    ]
   },
   "outputs": [],
   "source": [
    "# Generate a random undirected instance of Erdos-Renyi Random graph ( by using n = 5242 nodes and picking m = 14484 edges at random\n",
    "import random\n",
    "\n",
    "def genErdosRenyi(N=5242, E=14484):     \n",
    "    # 랜덤 시드는 고정\n",
    "    random.seed(2020)\n",
    "    \n",
    "    # edge 개수에 상응하는 p를 계산해야 한다. \n",
    "\n",
    "    # 아무 연결이 없는 노드들을 생성한다.\n",
    "    G = snap.TUNGraph.New()\n",
    "    for i in range(N):   # 노드는 0부터 시작\n",
    "        G.AddNode(i)\n",
    "\n",
    "    # random하게 두 노드를 선택하여 연결\n",
    "    # 충분한 연결선이 확보될 때까지 반복\n",
    "    edges = set()\n",
    "    n_edge = 0\n",
    "    while n_edge < E:\n",
    "        pick_nodes = tuple(sorted(np.random.choice(N, 2, replace=False).tolist()))  # undirected를 고려해서 sort\n",
    "        if pick_nodes not in edges:\n",
    "            edges.add(pick_nodes)\n",
    "            n_edge += 1\n",
    "    \n",
    "    # 생성된 edge를 그래프에 추가\n",
    "    for edge in edges:\n",
    "        G.AddEdge(edge[0], edge[1])\n",
    "\n",
    "    return G\n",
    "\n",
    "\n",
    "G1 = genErdosRenyi()\n",
    "assert G1.GetEdges() == 14484"
   ]
  },
  {
   "cell_type": "markdown",
   "metadata": {},
   "source": [
    "## Small-World Random Network: \n",
    "Generate an instance from this model as follows: begin with n = 5242 nodes arranged as a ring, i.e., imagine the nodes form a circle and each node is connected to its two direct neighbors (e.g., node 399 is connected to nodes 398 and 400), giving us 5242 edges. Next, connect each node to the neighbors of its neighbors (e.g., node 399 is also connected to nodes 397 and 401). This gives us another 5242 edges. Finally, randomly select 4000 pairs of nodes not yet connected and add an edge between them. In total, this will make m = 5242 · 2 + 4000 = 14484 edges"
   ]
  },
  {
   "cell_type": "code",
   "execution_count": 6,
   "metadata": {
    "code_folding": [
     0
    ]
   },
   "outputs": [
    {
     "data": {
      "text/plain": [
       "14483"
      ]
     },
     "execution_count": 6,
     "metadata": {},
     "output_type": "execute_result"
    }
   ],
   "source": [
    "def genCircle(N=5242):\n",
    "    \"\"\"\n",
    "    :param - N: number of nodes\n",
    "\n",
    "    return type: snap.PUNGraph\n",
    "    return: Circle graph with N nodes and N edges. Imagine the nodes form a\n",
    "        circle and each node is connected to its two direct neighbors.\n",
    "    \"\"\"\n",
    "    ############################################################################\n",
    "    # TODO: Your code here!\n",
    "    nodes = []\n",
    "    edges = set()\n",
    "    \n",
    "    # 아무 연결이 없는 노드들을 생성한다.\n",
    "    for i in range(N):   # 노드는 0부터 시작\n",
    "        nodes.append(i)\n",
    "\n",
    "    # 양 이웃 노드랑 연결한다.   i-1  <--  i --> i+1\n",
    "    for i in range(N):\n",
    "        left = N-1 if i == 0 else i-1\n",
    "        right = 0 if i == N-1 else i+1\n",
    "        edges.add((i, left))\n",
    "        edges.add((i, right))\n",
    "        \n",
    "    # friend of friend 연결을 생성한다. i-2 <-- i --> i+2\n",
    "    for i in range(N):\n",
    "        if i == 0:\n",
    "            left, right = N-2, i+2\n",
    "        elif i == 1:\n",
    "            left, right = N-1, i+2\n",
    "        elif i == N-2:\n",
    "            left, right = i-2, 0\n",
    "        elif i == N-1:\n",
    "            left, right = i-2, 1\n",
    "        else:\n",
    "            left, right = i-2, i+2\n",
    "            \n",
    "        edges.add((i, left))\n",
    "        edges.add((i, right)) \n",
    "    \n",
    "    # randomly select 4000 pairs of nodes not yet connected and add an edge between them\n",
    "    random_edges = set()\n",
    "    n_edge = 0\n",
    "    n_max = 4000\n",
    "    while n_edge < n_max:\n",
    "        n1 = np.random.choice(N)\n",
    "        n2 = np.random.choice(N)\n",
    "        if n1 != n2 and (n1,n2) not in random_edges and (n1,n2) not in edges:\n",
    "            edges.add((n1,n2))\n",
    "            n_edge += 1    \n",
    "\n",
    "    G = snap.TUNGraph.New()\n",
    "    for i in range(N):   # 노드는 0부터 시작\n",
    "        G.AddNode(i)        \n",
    "    for edge in edges:\n",
    "        G.AddEdge(edge[0], edge[1])   \n",
    "    \n",
    "        \n",
    "    return G\n",
    "G2 = genCircle()\n",
    "#assert G2.GetEdges() == 14483\n",
    "G2.GetEdges()"
   ]
  },
  {
   "cell_type": "markdown",
   "metadata": {},
   "source": [
    "## Real-World Collaboration Network\n",
    "* represent authors of research papers on the arXiv in the General Relativity and Quantum Cosmology section\n",
    "* remove duplicates and self-loops"
   ]
  },
  {
   "cell_type": "code",
   "execution_count": 7,
   "metadata": {},
   "outputs": [],
   "source": [
    "G3 = snap.LoadEdgeList(snap.PUNGraph, 'ca-GrQc.txt', 0, 1, '\\t')\n",
    "snap.DelSelfEdges(G3)\n",
    "\n",
    "assert G3.GetEdges() == 14484"
   ]
  },
  {
   "cell_type": "markdown",
   "metadata": {},
   "source": [
    "## Plot the degree distribution of all three networks in the same plot on a log-log scale"
   ]
  },
  {
   "cell_type": "code",
   "execution_count": 8,
   "metadata": {
    "code_folding": []
   },
   "outputs": [],
   "source": [
    "import numpy as np\n",
    "import matplotlib.pyplot as plt\n",
    "def plot_deg_dist(G, graph_name, log_scale=True):\n",
    "    # get out-degree distribution\n",
    "    degOutCntV = snap.TIntPrV()\n",
    "    snap.GetOutDegCnt(G, degOutCntV)\n",
    "    x = [cnt.GetVal1() for cnt in degOutCntV if cnt.GetVal1() >= 1]\n",
    "    y = [cnt.GetVal2() for cnt in degOutCntV if cnt.GetVal1() >= 1]\n",
    "    if log_scale:\n",
    "        x_scaled, y_scaled = np.log(x), np.log(y)\n",
    "    else:\n",
    "        x_scaled, y_scaled = x, y\n",
    "\n",
    "    # plot out-degree distribution\n",
    "    f, ax = plt.subplots(figsize=(10,5))\n",
    "    plt.plot(x_scaled, y_scaled, linewidth=2.5, color='navy')\n",
    "    plt.xlabel(r'# of out-degree (log-scale)')\n",
    "    plt.ylabel(r'# of node counts (log-scale)')\n",
    "    ax.grid(True)\n",
    "    plt.title(f'degree distribution of {graph_name} on a log-log scale')\n",
    "    plt.show()"
   ]
  },
  {
   "cell_type": "code",
   "execution_count": 9,
   "metadata": {},
   "outputs": [
    {
     "data": {
      "image/png": "[encoded data removed]",
      "text/plain": [
       "<Figure size 720x360 with 1 Axes>"
      ]
     },
     "metadata": {
      "needs_background": "light"
     },
     "output_type": "display_data"
    }
   ],
   "source": [
    "plot_deg_dist(G1, 'Erdos-Renyi Random graph', log_scale=False)"
   ]
  },
  {
   "cell_type": "code",
   "execution_count": 10,
   "metadata": {},
   "outputs": [
    {
     "data": {
      "image/png": "[encoded data removed]",
      "text/plain": [
       "<Figure size 720x360 with 1 Axes>"
      ]
     },
     "metadata": {
      "needs_background": "light"
     },
     "output_type": "display_data"
    }
   ],
   "source": [
    "plot_deg_dist(G2, 'Small World graph', log_scale=True)"
   ]
  },
  {
   "cell_type": "code",
   "execution_count": 11,
   "metadata": {},
   "outputs": [
    {
     "data": {
      "image/png": "[encoded data removed]",
      "text/plain": [
       "<Figure size 720x360 with 1 Axes>"
      ]
     },
     "metadata": {
      "needs_background": "light"
     },
     "output_type": "display_data"
    }
   ],
   "source": [
    "plot_deg_dist(G3, 'Real-World Collaboration Network', log_scale=True)"
   ]
  },
  {
   "cell_type": "markdown",
   "metadata": {},
   "source": [
    "## 1.2 Clustering Coefficient "
   ]
  },
  {
   "cell_type": "code",
   "execution_count": 12,
   "metadata": {
    "code_folding": [
     0,
     33
    ]
   },
   "outputs": [],
   "source": [
    "def calcClusteringCoefficientSingleNode(Node, Graph):\n",
    "    \"\"\"\n",
    "    :param - Node: node from snap.PUNGraph object. Graph.Nodes() will give an\n",
    "                   iterable of nodes in a graph\n",
    "    :param - Graph: snap.PUNGraph object representing an undirected graph\n",
    "\n",
    "    return type: float\n",
    "    returns: local clustering coeffient of Node\n",
    "    \"\"\"\n",
    "    ############################################################################\n",
    "    # TODO: Your code here!\n",
    "    C = 0.0\n",
    "    ki = Node.GetDeg()\n",
    "    \n",
    "    # get all neighbor node ids from the central node\n",
    "    neighrbor_nodes = [ neighborId for neighborId in Node.GetOutEdges() ]\n",
    "    \n",
    "    # get all neigbor nodes' edges and check if that is connected to neigborbor of central node\n",
    "    ei = 0  # edge between neighbors    \n",
    "    for neighborId in neighrbor_nodes:\n",
    "        neighborNodeI = Graph.GetNI(neighborId)\n",
    "        for dstId in neighborNodeI.GetOutEdges():\n",
    "            if dstId in neighrbor_nodes:\n",
    "                ei += 1\n",
    "            \n",
    "    if ki >= 2:\n",
    "        C = 2* ei / ki*(ki-1)\n",
    "    else:\n",
    "        C = 0\n",
    "    \n",
    "    ############################################################################\n",
    "    return C\n",
    "\n",
    "def calcClusteringCoefficient(Graph):\n",
    "    \"\"\"\n",
    "    :param - Graph: snap.PUNGraph object representing an undirected graph\n",
    "\n",
    "    return type: float\n",
    "    returns: clustering coeffient of Graph\n",
    "    \"\"\"\n",
    "    ############################################################################\n",
    "    # TODO: Your code here! If you filled out calcClusteringCoefficientSingleNode,\n",
    "    #       you'll probably want to call it in a loop here\n",
    "    C = 0.0\n",
    "    n_node = Graph.GetNodes()\n",
    "    for NI in Graph.Nodes():\n",
    "        C += calcClusteringCoefficientSingleNode(NI, Graph)\n",
    "    C = C / n_node\n",
    "        \n",
    "    ############################################################################\n",
    "    return C"
   ]
  },
  {
   "cell_type": "code",
   "execution_count": 13,
   "metadata": {},
   "outputs": [
    {
     "name": "stdout",
     "output_type": "stream",
     "text": [
      "Clustering cofficient of Erdos-Renyi Random graph = 0.0659318446613372\n"
     ]
    }
   ],
   "source": [
    "print(f'Clustering cofficient of Erdos-Renyi Random graph = {calcClusteringCoefficient(G1)}')"
   ]
  },
  {
   "cell_type": "code",
   "execution_count": 14,
   "metadata": {},
   "outputs": [
    {
     "name": "stdout",
     "output_type": "stream",
     "text": [
      "Clustering cofficient of small world network = 9.726776072712541\n"
     ]
    }
   ],
   "source": [
    "print(f'Clustering cofficient of small world network = {calcClusteringCoefficient(G2)}')"
   ]
  },
  {
   "cell_type": "code",
   "execution_count": 15,
   "metadata": {},
   "outputs": [
    {
     "name": "stdout",
     "output_type": "stream",
     "text": [
      "Clustering cofficient of Real-World Collaboration Network = 105.0590039620891\n"
     ]
    }
   ],
   "source": [
    "print(f'Clustering cofficient of Real-World Collaboration Network = {calcClusteringCoefficient(G3)}')"
   ]
  },
  {
   "cell_type": "markdown",
   "metadata": {},
   "source": [
    "# 2 Structural Roles: Rolx and ReFex "
   ]
  },
  {
   "cell_type": "markdown",
   "metadata": {},
   "source": [
    "## 2.1 Basic Features"
   ]
  },
  {
   "cell_type": "code",
   "execution_count": 16,
   "metadata": {},
   "outputs": [],
   "source": [
    "G2 = snap.TUNGraph.Load(snap.TFIn(\"hw1-q2.graph\"))"
   ]
  },
  {
   "cell_type": "code",
   "execution_count": 66,
   "metadata": {
    "code_folding": [
     3,
     29,
     55,
     84
    ]
   },
   "outputs": [],
   "source": [
    "from numpy import dot\n",
    "from numpy.linalg import norm\n",
    "\n",
    "def getEgoNet(Node, Graph):\n",
    "    \"\"\"\n",
    "    :param - Node: node from snap.PUNGraph object. Graph.Nodes() will give an\n",
    "                   iterable of nodes in a graph\n",
    "    :param - Graph: snap.PUNGraph object representing an undirected graph\n",
    "\n",
    "    return type: float\n",
    "    returns: snap.PUNGraph object consisting of egonet\n",
    "    \"\"\"\n",
    "    ############################################################################\n",
    "    # TODO: Your code here!\n",
    "    \n",
    "    # get current & its neighbor's node ids\n",
    "    egoID = Node.GetId()\n",
    "    neighborIDs = [ neighborId for neighborId in Node.GetOutEdges() ]\n",
    "    \n",
    "    # get subgraph with given node lists\n",
    "    NIdV = snap.TIntV()\n",
    "    NIdV.Add(egoID)\n",
    "    for nid in neighborIDs:\n",
    "        NIdV.Add(nid)\n",
    "    SubGraph = snap.GetSubGraph(Graph, NIdV)\n",
    "    \n",
    "    ############################################################################\n",
    "    return SubGraph\n",
    "\n",
    "def getCrossEdges(SubGraph, Graph):\n",
    "    \"\"\"\n",
    "    :param - Graph: snap.PUNGraph object representing an subgraph of given whole graph\n",
    "    :param - Graph: snap.PUNGraph object representing an whole graph\n",
    "\n",
    "    return type: int\n",
    "    returns: number of crossing edges in-and-out between subgraph and rest of subgraph\n",
    "    \"\"\" \n",
    "    \n",
    "    # get subgraph's node set\n",
    "    sub_nodes = set([NI.GetId() for NI in SubGraph.Nodes()])\n",
    "    \n",
    "    # traverse all edges and identify out cross-over edges\n",
    "    cross_edge = 0\n",
    "    for EI in Graph.Edges():\n",
    "        # subgraph로부터 non-subgraph로 나가는 outgoing edge\n",
    "        if EI.GetSrcNId() in sub_nodes and EI.GetDstNId() not in sub_nodes:\n",
    "            cross_edge += 1\n",
    "        # non-subgraph로부터 subgraph로 들어오는 incomming edge\n",
    "        elif EI.GetSrcNId() not in sub_nodes and EI.GetDstNId() in sub_nodes:\n",
    "            cross_edge += 1\n",
    "        else: # 다른 경우는 증가하지 않음 \n",
    "            pass\n",
    "        \n",
    "    return cross_edge\n",
    "      \n",
    "def getNodeFeatures(Node, Graph):\n",
    "    \"\"\"\n",
    "    :param - Node: node from snap.PUNGraph object. Graph.Nodes() will give an\n",
    "                   iterable of nodes in a graph\n",
    "    :param - Graph: snap.PUNGraph object representing an undirected graph\n",
    "\n",
    "    return type: tlist of numerical values\n",
    "    returns: feature vector containing \n",
    "        1) degree of node v\n",
    "        2) the number of edges in the egonet of v\n",
    "        3) the number of edges that connect the egonet of v and the rest of the graph\n",
    "    \"\"\" \n",
    "    ############################################################################\n",
    "    # TODO: Your code here!\n",
    "    # get egonet\n",
    "    egoNet = getEgoNet(Node, Graph)\n",
    "    \n",
    "    # get degree\n",
    "    deg = Node.GetOutDeg()\n",
    "    \n",
    "    # the number of edges in the egonet of v\n",
    "    ego_edges = egoNet.GetEdges()\n",
    "    \n",
    "    # the number of edges that connect the egonet of v and the rest of the graph\n",
    "    cross_edges = getCrossEdges(egoNet, Graph)\n",
    "    \n",
    "    ############################################################################\n",
    "    return [deg, ego_edges, cross_edges]\n",
    "\n",
    "def getCosineSimilarity(a, b):\n",
    "    if norm(a) == 0 or norm(b) == 0:\n",
    "        cos_sim = 0\n",
    "    else:\n",
    "        cos_sim = dot(a, b)/(norm(a)*norm(b))\n",
    "    return cos_sim"
   ]
  },
  {
   "cell_type": "markdown",
   "metadata": {},
   "source": [
    "### basic feature vector for the node with ID 9"
   ]
  },
  {
   "cell_type": "code",
   "execution_count": 18,
   "metadata": {},
   "outputs": [
    {
     "data": {
      "text/plain": [
       "[6, 10, 1]"
      ]
     },
     "execution_count": 18,
     "metadata": {},
     "output_type": "execute_result"
    }
   ],
   "source": [
    "ID9_features = getNodeFeatures(G2.GetNI(9), G2)\n",
    "ID9_features"
   ]
  },
  {
   "cell_type": "markdown",
   "metadata": {},
   "source": [
    "### report the top 5 nodes that are most similar to node 9 (excluding node 9)"
   ]
  },
  {
   "cell_type": "code",
   "execution_count": 20,
   "metadata": {},
   "outputs": [
    {
     "name": "stderr",
     "output_type": "stream",
     "text": [
      "/Users/seonghoonjung/anaconda3/envs/ai_37/lib/python3.7/site-packages/ipykernel_launcher.py:86: RuntimeWarning: invalid value encountered in true_divide\n"
     ]
    },
    {
     "data": {
      "text/plain": [
       "[(189, 0.9957906172043477),\n",
       " (16, 0.9952159568022304),\n",
       " (17, 0.9952159568022304),\n",
       " (18, 0.9952159568022304),\n",
       " (2, 0.9836314518779806)]"
      ]
     },
     "execution_count": 20,
     "metadata": {},
     "output_type": "execute_result"
    }
   ],
   "source": [
    "# traverse the nodes and calculates similarity between all paires \n",
    "all_sims = []\n",
    "for NI in G2.Nodes():\n",
    "    if NI.GetId() != 9:\n",
    "        ego_nid = NI.GetId()\n",
    "        target_features = getNodeFeatures(NI, G2)\n",
    "        cos_sim = getCosineSimilarity(ID9_features, target_features)\n",
    "        all_sims.append((ego_nid, cos_sim))\n",
    "\n",
    "# sort by similiary desc\n",
    "top5_similar_nodes = sorted([ (item[0], item[1]) for item in all_sims], key=lambda x: x[1], reverse=True)[:5] \n",
    "top5_similar_nodes"
   ]
  },
  {
   "cell_type": "markdown",
   "metadata": {},
   "source": [
    "## 2.2 Recursive Features\n"
   ]
  },
  {
   "cell_type": "code",
   "execution_count": 58,
   "metadata": {},
   "outputs": [],
   "source": [
    "def getRecursiveFeatures(Graph, K=2):\n",
    "    \n",
    "    def _getFeatures(Graph, cur_node_features):    \n",
    "        next_features = {}\n",
    "        \n",
    "        for NI in Graph.Nodes():\n",
    "            ego_id = NI.GetId()\n",
    "            ego_feature = cur_node_features[ego_id]\n",
    "            neighrbor_nids = [ neighborId for neighborId in NI.GetOutEdges() ]\n",
    "            if len(neighrbor_nids) == 0:\n",
    "                concat_features = ego_feature + [0]*len(ego_feature)*2\n",
    "            else:\n",
    "                neighrbor_features = np.array([cur_node_features[nid] for nid in neighrbor_nids])\n",
    "                concat_features = np.concatenate(\n",
    "                    [ego_feature, neighrbor_features.mean(axis=0), neighrbor_features.sum(axis=0)]\n",
    "                ).tolist()\n",
    "\n",
    "            next_features[ego_id] = concat_features\n",
    "\n",
    "            assert len(concat_features) == len(ego_feature)*3\n",
    "\n",
    "        return next_features\n",
    "    \n",
    "    current_node_features = { NI.GetId(): getNodeFeatures(NI, G2) for NI in G2.Nodes()} \n",
    "    for k in range(K):\n",
    "        current_node_features = _getFeatures(Graph, current_node_features)\n",
    "    return current_node_features\n",
    "\n",
    "recursive_features = getRecursiveFeatures(G2, K=2)        "
   ]
  },
  {
   "cell_type": "code",
   "execution_count": 71,
   "metadata": {},
   "outputs": [
    {
     "data": {
      "text/plain": [
       "[(973, 0.9959848829010806),\n",
       " (537, 0.9946130044020558),\n",
       " (415, 0.993728442523926),\n",
       " (496, 0.9922839741918226),\n",
       " (24, 0.9922413199302673)]"
      ]
     },
     "execution_count": 71,
     "metadata": {},
     "output_type": "execute_result"
    }
   ],
   "source": [
    "all_sims = []\n",
    "ID9_features = recursive_features[9]\n",
    "for NI in G2.Nodes():\n",
    "    if NI.GetId() != 9:\n",
    "        ego_nid = NI.GetId()\n",
    "        target_features = recursive_features[ego_nid]\n",
    "        cos_sim = getCosineSimilarity(ID9_features, target_features)\n",
    "        all_sims.append((ego_nid, cos_sim))\n",
    "        \n",
    "# sort by similiary desc\n",
    "top5_similar_nodes = sorted([ (item[0], item[1]) for item in all_sims], key=lambda x: x[1], reverse=True)[:5] \n",
    "top5_similar_nodes"
   ]
  },
  {
   "cell_type": "markdown",
   "metadata": {},
   "source": [
    "## 2.3 Role Discovery "
   ]
  },
  {
   "cell_type": "code",
   "execution_count": 90,
   "metadata": {},
   "outputs": [
    {
     "data": {
      "image/png": "[encoded data removed]",
      "text/plain": [
       "<Figure size 1080x360 with 1 Axes>"
      ]
     },
     "metadata": {},
     "output_type": "display_data"
    }
   ],
   "source": [
    "## Produce a 20-bin histogram to show the distribution of cosine similarity between node 9 and any other node in the graph (according to their recursive feature vectors)\n",
    "\n",
    "import seaborn as sns, numpy as np\n",
    "cos_sims = [item[1] for item in all_sims]\n",
    "\n",
    "plt.figure(figsize=(15, 5))\n",
    "ax = sns.distplot(cos_sims, bins=20, norm_hist=False)\n",
    "\n"
   ]
  },
  {
   "cell_type": "code",
   "execution_count": 145,
   "metadata": {},
   "outputs": [
    {
     "data": {
      "text/plain": [
       "array([ 0,  1,  2,  3,  4,  5,  6, 62, 63, 73])"
      ]
     },
     "execution_count": 145,
     "metadata": {},
     "output_type": "execute_result"
    }
   ],
   "source": [
    "def getBinCosSim(all_sims, bins, bin_index):\n",
    "    ids = np.array([item[0] for item in all_sims])\n",
    "    sims = np.array([item[1] for item in all_sims])\n",
    "    bin_edges = np.array(range(bins))/bins\n",
    "    bin_indice = np.digitize(sims, bin_edges)\n",
    "    target_indice = np.argwhere(bin_indice==bin_index).ravel()\n",
    "    return np.take(ids, target_indice)\n",
    "\n",
    "getBinCosSim(all_sims, bins=20, bin_index=19)[:10]"
   ]
  },
  {
   "cell_type": "code",
   "execution_count": 157,
   "metadata": {},
   "outputs": [
    {
     "data": {
      "text/plain": [
       "0.9079028912111915"
      ]
     },
     "execution_count": 157,
     "metadata": {},
     "output_type": "execute_result"
    }
   ],
   "source": [
    "all_sims_dict = { item[0]:item[1] for item in all_sims }\n",
    "all_sims_dict[63]"
   ]
  },
  {
   "cell_type": "code",
   "execution_count": 158,
   "metadata": {
    "code_folding": [
     0
    ]
   },
   "outputs": [],
   "source": [
    "def getEgoSubGraph(nid, Graph):\n",
    "    \n",
    "    ego_node = Graph.GetNI(nid)\n",
    "    \n",
    "    NIdV = snap.TIntV()\n",
    "    NIdV.Add(nid)\n",
    "    for dstId in ego_node.GetOutEdges():\n",
    "        NIdV.Add(dstId)    \n",
    "    SubGraph = snap.GetSubGraph(G2, NIdV)\n",
    "    return SubGraph  \n",
    "\n",
    "subGraph = getEgoSubGraph(63, G2)"
   ]
  },
  {
   "cell_type": "code",
   "execution_count": 161,
   "metadata": {
    "scrolled": true
   },
   "outputs": [],
   "source": [
    "# draw subgraph"
   ]
  },
  {
   "cell_type": "markdown",
   "metadata": {},
   "source": [
    "## 3 Community detection using the Louvain algorithm"
   ]
  },
  {
   "cell_type": "markdown",
   "metadata": {},
   "source": [
    "### Phase 1 (Modularity Optimization): Start with each node in its own community."
   ]
  },
  {
   "cell_type": "markdown",
   "metadata": {},
   "source": [
    "### Phase 2 (Community Aggregation)"
   ]
  },
  {
   "cell_type": "markdown",
   "metadata": {},
   "source": [
    "## 3.1 Modularity gain when an isolated node moves into a community [4 points]"
   ]
  },
  {
   "cell_type": "markdown",
   "metadata": {},
   "source": [
    "## 3.2 Louvain algorithm on a 16 node network [10 points]"
   ]
  },
  {
   "cell_type": "markdown",
   "metadata": {},
   "source": [
    "## 3.3 Louvain algorithm on a 128 node network [10 points]"
   ]
  },
  {
   "cell_type": "markdown",
   "metadata": {},
   "source": [
    "## 3.4 What just happened? [1 point]"
   ]
  },
  {
   "cell_type": "markdown",
   "metadata": {},
   "source": [
    "## 4 Spectral clustering [25 points]"
   ]
  },
  {
   "cell_type": "markdown",
   "metadata": {},
   "source": [
    "## 4.1 A Spectral Algorithm for Normalized Cut Minimization: Foundations [10\n",
    "points]"
   ]
  },
  {
   "cell_type": "markdown",
   "metadata": {},
   "source": [
    "## 4.2 Normalized Cut Minimization: Solving for the Minimizer [8 points]"
   ]
  },
  {
   "cell_type": "markdown",
   "metadata": {},
   "source": [
    "## 4.3 Relating Modularity to Cuts and Volumes [7 points]"
   ]
  },
  {
   "cell_type": "code",
   "execution_count": null,
   "metadata": {},
   "outputs": [],
   "source": []
  }
 ],
 "metadata": {
  "kernelspec": {
   "display_name": "Python (ai_37)",
   "language": "python",
   "name": "ai_37"
  },
  "language_info": {
   "codemirror_mode": {
    "name": "ipython",
    "version": 3
   },
   "file_extension": ".py",
   "mimetype": "text/x-python",
   "name": "python",
   "nbconvert_exporter": "python",
   "pygments_lexer": "ipython3",
   "version": "3.7.5"
  },
  "varInspector": {
   "cols": {
    "lenName": 16,
    "lenType": 16,
    "lenVar": 40
   },
   "kernels_config": {
    "python": {
     "delete_cmd_postfix": "",
     "delete_cmd_prefix": "del ",
     "library": "var_list.py",
     "varRefreshCmd": "print(var_dic_list())"
    },
    "r": {
     "delete_cmd_postfix": ") ",
     "delete_cmd_prefix": "rm(",
     "library": "var_list.r",
     "varRefreshCmd": "cat(var_dic_list()) "
    }
   },
   "types_to_exclude": [
    "module",
    "function",
    "builtin_function_or_method",
    "instance",
    "_Feature"
   ],
   "window_display": false
  }
 },
 "nbformat": 4,
 "nbformat_minor": 2
}
