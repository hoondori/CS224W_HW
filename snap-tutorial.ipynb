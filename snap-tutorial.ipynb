{
 "cells": [
  {
   "cell_type": "markdown",
   "metadata": {},
   "source": [
    "## 설치 확인"
   ]
  },
  {
   "cell_type": "code",
   "execution_count": 1,
   "metadata": {},
   "outputs": [
    {
     "name": "stdout",
     "output_type": "stream",
     "text": [
      "Python 3.7.5\n",
      "Solving environment: done\n",
      "\n",
      "\n",
      "==> WARNING: A newer version of conda exists. <==\n",
      "  current version: 4.5.4\n",
      "  latest version: 4.8.1\n",
      "\n",
      "Please update conda by running\n",
      "\n",
      "    $ conda update -n base conda\n",
      "\n",
      "\n",
      "\n",
      "# All requested packages already installed.\n",
      "\n"
     ]
    }
   ],
   "source": [
    "!python --version\n",
    "!conda install -c snap-stanford snap-stanford"
   ]
  },
  {
   "cell_type": "code",
   "execution_count": 2,
   "metadata": {},
   "outputs": [
    {
     "name": "stdout",
     "output_type": "stream",
     "text": [
      "SUCCESS, your version of Snap.py is 5.0.0\n"
     ]
    }
   ],
   "source": [
    "status = False\n",
    "try:\n",
    "    import snap\n",
    "    version = snap.Version\n",
    "    i = snap.TInt(5)\n",
    "    if i == 5:\n",
    "        status = True\n",
    "except:\n",
    "    pass\n",
    "\n",
    "if status:\n",
    "    print(\"SUCCESS, your version of Snap.py is %s\" % (version))\n",
    "else:\n",
    "    print(\"*** ERROR, no working Snap.py was found on your computer\")"
   ]
  },
  {
   "cell_type": "markdown",
   "metadata": {},
   "source": [
    "## Undirected 그래프 생성 "
   ]
  },
  {
   "cell_type": "code",
   "execution_count": 9,
   "metadata": {},
   "outputs": [
    {
     "name": "stdout",
     "output_type": "stream",
     "text": [
      "3\n",
      "2\n"
     ]
    }
   ],
   "source": [
    "G1 = snap.TUNGraph.New()\n",
    "G1.AddNode(1)\n",
    "G1.AddNode(5)\n",
    "G1.AddNode(32)\n",
    "G1.AddEdge(5,1)\n",
    "G1.AddEdge(5,32)\n",
    "print(G1.GetNodes())\n",
    "print(G1.GetEdges())"
   ]
  },
  {
   "cell_type": "markdown",
   "metadata": {},
   "source": [
    "## Directed 그래프 생성 및 Iteration"
   ]
  },
  {
   "cell_type": "code",
   "execution_count": 11,
   "metadata": {},
   "outputs": [
    {
     "name": "stdout",
     "output_type": "stream",
     "text": [
      "node id 0 with out-degree 1 and in-degree 0\n",
      "node id 1 with out-degree 0 and in-degree 0\n",
      "node id 2 with out-degree 0 and in-degree 1\n",
      "node id 3 with out-degree 2 and in-degree 0\n",
      "node id 4 with out-degree 1 and in-degree 0\n",
      "node id 5 with out-degree 0 and in-degree 0\n",
      "node id 6 with out-degree 0 and in-degree 0\n",
      "node id 7 with out-degree 1 and in-degree 0\n",
      "node id 8 with out-degree 0 and in-degree 2\n",
      "node id 9 with out-degree 0 and in-degree 2\n",
      "edge (0, 2)\n",
      "edge (3, 8)\n",
      "edge (3, 9)\n",
      "edge (4, 8)\n",
      "edge (7, 9)\n",
      "edge (0 2)\n",
      "edge (3 8)\n",
      "edge (3 9)\n",
      "edge (4 8)\n",
      "edge (7 9)\n"
     ]
    }
   ],
   "source": [
    "# create a directed random graph on 100 nodes and 1k edges\n",
    "G2 = snap.GenRndGnm(snap.PNGraph, 10, 5)\n",
    "\n",
    "# traverse the nodes\n",
    "for NI in G2.Nodes():\n",
    "    print(\"node id %d with out-degree %d and in-degree %d\" % (\n",
    "        NI.GetId(), NI.GetOutDeg(), NI.GetInDeg()))\n",
    "    \n",
    "# traverse the edges\n",
    "for EI in G2.Edges():\n",
    "    print(\"edge (%d, %d)\" % (EI.GetSrcNId(), EI.GetDstNId()))\n",
    "    \n",
    "# traverse the edges by nodes\n",
    "for NI in G2.Nodes():\n",
    "    for Id in NI.GetOutEdges():\n",
    "        print(\"edge (%d %d)\" % (NI.GetId(), Id))"
   ]
  },
  {
   "cell_type": "markdown",
   "metadata": {},
   "source": [
    "## Input/Output"
   ]
  },
  {
   "cell_type": "code",
   "execution_count": 13,
   "metadata": {},
   "outputs": [
    {
     "name": "stdout",
     "output_type": "stream",
     "text": [
      "10\n"
     ]
    }
   ],
   "source": [
    "# generate a network using Forest Fire model\n",
    "G3 = snap.GenForestFire(10, 0.35, 0.35)\n",
    "\n",
    "# save and load binary\n",
    "FOut = snap.TFOut(\"test.graph\")\n",
    "G3.Save(FOut)\n",
    "FOut.Flush()\n",
    "FIn = snap.TFIn(\"test.graph\")\n",
    "G4 = snap.TNGraph.Load(FIn)\n",
    "\n",
    "# save and load from a text file\n",
    "snap.SaveEdgeList(G4, \"test.txt\", \"Save as tab-separated list of edges\")\n",
    "G5 = snap.LoadEdgeList(snap.PNGraph, \"test.txt\", 0, 1)\n",
    "print(G5.GetNodes())"
   ]
  },
  {
   "cell_type": "markdown",
   "metadata": {},
   "source": [
    "## Manipulating Graphs and Networks"
   ]
  },
  {
   "cell_type": "code",
   "execution_count": 14,
   "metadata": {},
   "outputs": [],
   "source": [
    "# generate a network using Forest Fire model\n",
    "G6 = snap.GenForestFire(100, 0.35, 0.35)\n",
    "\n",
    "# convert to undirected graph\n",
    "G7 = snap.ConvertGraph(snap.PUNGraph,G6)\n",
    "WccG = snap.GetMxWcc(G6)\n",
    "\n",
    "# get a subgraph induced on nodes {0,1,2,3,4,5}\n",
    "SubG = snap.GetSubGraph(G6, snap.TIntV.GetV(0,1,2,3,4))\n",
    "\n",
    "# get 3-core of G\n",
    "Core3 = snap.GetKCore(G6, 3)\n",
    "\n",
    "# delete nodes of out degree 10 and in degree 5\n",
    "snap.DelDegKNodes(G6, 10, 5)"
   ]
  },
  {
   "cell_type": "markdown",
   "metadata": {},
   "source": [
    "## Computing Structural Properties of Networks"
   ]
  },
  {
   "cell_type": "code",
   "execution_count": 15,
   "metadata": {},
   "outputs": [
    {
     "data": {
      "text/plain": [
       "0.03256814374771694"
      ]
     },
     "execution_count": 15,
     "metadata": {},
     "output_type": "execute_result"
    }
   ],
   "source": [
    "# generate a Preferential Attachment graph on 1000 nodes and node out degree of 3\n",
    "G8 = snap.GenPrefAttach(1000, 3)\n",
    "\n",
    "# vector of pairs of integers (size, count)\n",
    "CntV = snap.TIntPrV()\n",
    "\n",
    "# get distribution of connected components (component size, count)\n",
    "snap.GetWccSzCnt(G8, CntV)\n",
    "\n",
    "# get degree distribution pairs (degree, count)\n",
    "snap.GetOutDegCnt(G8, CntV)\n",
    "\n",
    "# vector of floats\n",
    "EigV = snap.TFltV()\n",
    "\n",
    "# get first eigenvector of graph adjacency matrix\n",
    "snap.GetEigVec(G8, EigV)\n",
    "\n",
    "# get diameter of G8\n",
    "snap.GetBfsFullDiam(G8, 100)\n",
    "\n",
    "# count the number of triads in G8, get the clustering coefficient of G8\n",
    "snap.GetTriads(G8)\n",
    "snap.GetClustCf(G8)"
   ]
  },
  {
   "cell_type": "code",
   "execution_count": null,
   "metadata": {},
   "outputs": [],
   "source": []
  }
 ],
 "metadata": {
  "kernelspec": {
   "display_name": "Python (ai_37)",
   "language": "python",
   "name": "ai_37"
  },
  "language_info": {
   "codemirror_mode": {
    "name": "ipython",
    "version": 3
   },
   "file_extension": ".py",
   "mimetype": "text/x-python",
   "name": "python",
   "nbconvert_exporter": "python",
   "pygments_lexer": "ipython3",
   "version": "3.7.5"
  },
  "varInspector": {
   "cols": {
    "lenName": 16,
    "lenType": 16,
    "lenVar": 40
   },
   "kernels_config": {
    "python": {
     "delete_cmd_postfix": "",
     "delete_cmd_prefix": "del ",
     "library": "var_list.py",
     "varRefreshCmd": "print(var_dic_list())"
    },
    "r": {
     "delete_cmd_postfix": ") ",
     "delete_cmd_prefix": "rm(",
     "library": "var_list.r",
     "varRefreshCmd": "cat(var_dic_list()) "
    }
   },
   "types_to_exclude": [
    "module",
    "function",
    "builtin_function_or_method",
    "instance",
    "_Feature"
   ],
   "window_display": false
  }
 },
 "nbformat": 4,
 "nbformat_minor": 2
}
